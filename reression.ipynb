{
 "cells": [
  {
   "cell_type": "code",
   "execution_count": 1,
   "metadata": {},
   "outputs": [],
   "source": [
    "import matplotlib.pyplot as plt\n",
    "%matplotlib inline\n",
    "plt.style.use('seaborn-v0_8-dark')"
   ]
  },
  {
   "cell_type": "code",
   "execution_count": 2,
   "metadata": {},
   "outputs": [],
   "source": [
    "import pandas as pd\n",
    "\n",
    "from sklearn.pipeline import Pipeline\n",
    "\n",
    "from sklearn.preprocessing import QuantileTransformer, StandardScaler\n",
    "from sklearn.model_selection import GridSearchCV, train_test_split\n",
    "\n",
    "from sklearn.neighbors import KNeighborsRegressor\n",
    "from sklearn.tree import DecisionTreeRegressor\n",
    "from sklearn.svm import SVR\n",
    "from sklearn.ensemble import AdaBoostRegressor\n",
    "import xgboost as xg\n",
    "\n",
    "from sklearn import metrics"
   ]
  },
  {
   "cell_type": "code",
   "execution_count": 3,
   "metadata": {},
   "outputs": [
    {
     "data": {
      "text/html": [
       "<div>\n",
       "<style scoped>\n",
       "    .dataframe tbody tr th:only-of-type {\n",
       "        vertical-align: middle;\n",
       "    }\n",
       "\n",
       "    .dataframe tbody tr th {\n",
       "        vertical-align: top;\n",
       "    }\n",
       "\n",
       "    .dataframe thead th {\n",
       "        text-align: right;\n",
       "    }\n",
       "</style>\n",
       "<table border=\"1\" class=\"dataframe\">\n",
       "  <thead>\n",
       "    <tr style=\"text-align: right;\">\n",
       "      <th></th>\n",
       "      <th>LON</th>\n",
       "      <th>LAT</th>\n",
       "      <th>WSR_ID</th>\n",
       "      <th>CELL_ID</th>\n",
       "      <th>RANGE</th>\n",
       "      <th>AZIMUTH</th>\n",
       "      <th>SEVPROB</th>\n",
       "      <th>PROB</th>\n",
       "      <th>MAXSIZE</th>\n",
       "    </tr>\n",
       "    <tr>\n",
       "      <th>X.ZTIME</th>\n",
       "      <th></th>\n",
       "      <th></th>\n",
       "      <th></th>\n",
       "      <th></th>\n",
       "      <th></th>\n",
       "      <th></th>\n",
       "      <th></th>\n",
       "      <th></th>\n",
       "      <th></th>\n",
       "    </tr>\n",
       "  </thead>\n",
       "  <tbody>\n",
       "    <tr>\n",
       "      <th>2.015010e+13</th>\n",
       "      <td>-97.16003</td>\n",
       "      <td>32.66308</td>\n",
       "      <td>KDFW</td>\n",
       "      <td>C0</td>\n",
       "      <td>27</td>\n",
       "      <td>207</td>\n",
       "      <td>0</td>\n",
       "      <td>10</td>\n",
       "      <td>0.5</td>\n",
       "    </tr>\n",
       "    <tr>\n",
       "      <th>2.015010e+13</th>\n",
       "      <td>-97.01849</td>\n",
       "      <td>32.57796</td>\n",
       "      <td>KDAL</td>\n",
       "      <td>E0</td>\n",
       "      <td>21</td>\n",
       "      <td>187</td>\n",
       "      <td>0</td>\n",
       "      <td>50</td>\n",
       "      <td>0.5</td>\n",
       "    </tr>\n",
       "    <tr>\n",
       "      <th>2.015010e+13</th>\n",
       "      <td>-97.01735</td>\n",
       "      <td>32.58810</td>\n",
       "      <td>KDFW</td>\n",
       "      <td>J0</td>\n",
       "      <td>29</td>\n",
       "      <td>190</td>\n",
       "      <td>0</td>\n",
       "      <td>20</td>\n",
       "      <td>0.5</td>\n",
       "    </tr>\n",
       "    <tr>\n",
       "      <th>2.015010e+13</th>\n",
       "      <td>-96.99553</td>\n",
       "      <td>32.59287</td>\n",
       "      <td>KDAL</td>\n",
       "      <td>E0</td>\n",
       "      <td>20</td>\n",
       "      <td>184</td>\n",
       "      <td>0</td>\n",
       "      <td>40</td>\n",
       "      <td>0.5</td>\n",
       "    </tr>\n",
       "    <tr>\n",
       "      <th>2.015010e+13</th>\n",
       "      <td>-96.96180</td>\n",
       "      <td>32.62550</td>\n",
       "      <td>KDAL</td>\n",
       "      <td>E0</td>\n",
       "      <td>18</td>\n",
       "      <td>179</td>\n",
       "      <td>0</td>\n",
       "      <td>30</td>\n",
       "      <td>0.5</td>\n",
       "    </tr>\n",
       "  </tbody>\n",
       "</table>\n",
       "</div>"
      ],
      "text/plain": [
       "                   LON       LAT WSR_ID CELL_ID  RANGE  AZIMUTH  SEVPROB  \\\n",
       "X.ZTIME                                                                    \n",
       "2.015010e+13 -97.16003  32.66308   KDFW      C0     27      207        0   \n",
       "2.015010e+13 -97.01849  32.57796   KDAL      E0     21      187        0   \n",
       "2.015010e+13 -97.01735  32.58810   KDFW      J0     29      190        0   \n",
       "2.015010e+13 -96.99553  32.59287   KDAL      E0     20      184        0   \n",
       "2.015010e+13 -96.96180  32.62550   KDAL      E0     18      179        0   \n",
       "\n",
       "              PROB  MAXSIZE  \n",
       "X.ZTIME                      \n",
       "2.015010e+13    10      0.5  \n",
       "2.015010e+13    50      0.5  \n",
       "2.015010e+13    20      0.5  \n",
       "2.015010e+13    40      0.5  \n",
       "2.015010e+13    30      0.5  "
      ]
     },
     "execution_count": 3,
     "metadata": {},
     "output_type": "execute_result"
    }
   ],
   "source": [
    "data = pd.read_csv('hail-2015.csv', index_col = 'X.ZTIME', nrows = 3000000)\n",
    "data.head()"
   ]
  },
  {
   "cell_type": "code",
   "execution_count": 4,
   "metadata": {},
   "outputs": [
    {
     "data": {
      "text/plain": [
       "(3000000, 9)"
      ]
     },
     "execution_count": 4,
     "metadata": {},
     "output_type": "execute_result"
    }
   ],
   "source": [
    "data.shape"
   ]
  },
  {
   "cell_type": "code",
   "execution_count": 5,
   "metadata": {},
   "outputs": [
    {
     "data": {
      "text/html": [
       "<div>\n",
       "<style scoped>\n",
       "    .dataframe tbody tr th:only-of-type {\n",
       "        vertical-align: middle;\n",
       "    }\n",
       "\n",
       "    .dataframe tbody tr th {\n",
       "        vertical-align: top;\n",
       "    }\n",
       "\n",
       "    .dataframe thead th {\n",
       "        text-align: right;\n",
       "    }\n",
       "</style>\n",
       "<table border=\"1\" class=\"dataframe\">\n",
       "  <thead>\n",
       "    <tr style=\"text-align: right;\">\n",
       "      <th></th>\n",
       "      <th>LON</th>\n",
       "      <th>LAT</th>\n",
       "      <th>WSR_ID</th>\n",
       "      <th>CELL_ID</th>\n",
       "      <th>RANGE</th>\n",
       "      <th>AZIMUTH</th>\n",
       "      <th>SEVPROB</th>\n",
       "      <th>PROB</th>\n",
       "      <th>MAXSIZE</th>\n",
       "    </tr>\n",
       "  </thead>\n",
       "  <tbody>\n",
       "    <tr>\n",
       "      <th>0 days 00:00:00</th>\n",
       "      <td>-97.16003</td>\n",
       "      <td>32.66308</td>\n",
       "      <td>KDFW</td>\n",
       "      <td>C0</td>\n",
       "      <td>27</td>\n",
       "      <td>207</td>\n",
       "      <td>0</td>\n",
       "      <td>10</td>\n",
       "      <td>0.5</td>\n",
       "    </tr>\n",
       "    <tr>\n",
       "      <th>0 days 00:00:01</th>\n",
       "      <td>-97.01849</td>\n",
       "      <td>32.57796</td>\n",
       "      <td>KDAL</td>\n",
       "      <td>E0</td>\n",
       "      <td>21</td>\n",
       "      <td>187</td>\n",
       "      <td>0</td>\n",
       "      <td>50</td>\n",
       "      <td>0.5</td>\n",
       "    </tr>\n",
       "    <tr>\n",
       "      <th>0 days 00:00:02</th>\n",
       "      <td>-97.01735</td>\n",
       "      <td>32.58810</td>\n",
       "      <td>KDFW</td>\n",
       "      <td>J0</td>\n",
       "      <td>29</td>\n",
       "      <td>190</td>\n",
       "      <td>0</td>\n",
       "      <td>20</td>\n",
       "      <td>0.5</td>\n",
       "    </tr>\n",
       "    <tr>\n",
       "      <th>0 days 00:00:03</th>\n",
       "      <td>-96.99553</td>\n",
       "      <td>32.59287</td>\n",
       "      <td>KDAL</td>\n",
       "      <td>E0</td>\n",
       "      <td>20</td>\n",
       "      <td>184</td>\n",
       "      <td>0</td>\n",
       "      <td>40</td>\n",
       "      <td>0.5</td>\n",
       "    </tr>\n",
       "    <tr>\n",
       "      <th>0 days 00:00:04</th>\n",
       "      <td>-96.96180</td>\n",
       "      <td>32.62550</td>\n",
       "      <td>KDAL</td>\n",
       "      <td>E0</td>\n",
       "      <td>18</td>\n",
       "      <td>179</td>\n",
       "      <td>0</td>\n",
       "      <td>30</td>\n",
       "      <td>0.5</td>\n",
       "    </tr>\n",
       "  </tbody>\n",
       "</table>\n",
       "</div>"
      ],
      "text/plain": [
       "                      LON       LAT WSR_ID CELL_ID  RANGE  AZIMUTH  SEVPROB  \\\n",
       "0 days 00:00:00 -97.16003  32.66308   KDFW      C0     27      207        0   \n",
       "0 days 00:00:01 -97.01849  32.57796   KDAL      E0     21      187        0   \n",
       "0 days 00:00:02 -97.01735  32.58810   KDFW      J0     29      190        0   \n",
       "0 days 00:00:03 -96.99553  32.59287   KDAL      E0     20      184        0   \n",
       "0 days 00:00:04 -96.96180  32.62550   KDAL      E0     18      179        0   \n",
       "\n",
       "                 PROB  MAXSIZE  \n",
       "0 days 00:00:00    10      0.5  \n",
       "0 days 00:00:01    50      0.5  \n",
       "0 days 00:00:02    20      0.5  \n",
       "0 days 00:00:03    40      0.5  \n",
       "0 days 00:00:04    30      0.5  "
      ]
     },
     "execution_count": 5,
     "metadata": {},
     "output_type": "execute_result"
    }
   ],
   "source": [
    "data.index = (pd.to_datetime(pd.Series(range(len(data))), unit = 's') - pd.to_datetime('1970-01-01'))\n",
    "data.head()"
   ]
  },
  {
   "cell_type": "code",
   "execution_count": 6,
   "metadata": {},
   "outputs": [
    {
     "data": {
      "text/html": [
       "<div>\n",
       "<style scoped>\n",
       "    .dataframe tbody tr th:only-of-type {\n",
       "        vertical-align: middle;\n",
       "    }\n",
       "\n",
       "    .dataframe tbody tr th {\n",
       "        vertical-align: top;\n",
       "    }\n",
       "\n",
       "    .dataframe thead th {\n",
       "        text-align: right;\n",
       "    }\n",
       "</style>\n",
       "<table border=\"1\" class=\"dataframe\">\n",
       "  <thead>\n",
       "    <tr style=\"text-align: right;\">\n",
       "      <th></th>\n",
       "      <th>LON</th>\n",
       "      <th>LAT</th>\n",
       "      <th>WSR_ID</th>\n",
       "      <th>CELL_ID</th>\n",
       "      <th>RANGE</th>\n",
       "      <th>AZIMUTH</th>\n",
       "      <th>SEVPROB</th>\n",
       "      <th>PROB</th>\n",
       "      <th>MAXSIZE</th>\n",
       "    </tr>\n",
       "  </thead>\n",
       "  <tbody>\n",
       "    <tr>\n",
       "      <th>34 days 17:19:55</th>\n",
       "      <td>-87.68603</td>\n",
       "      <td>32.39541</td>\n",
       "      <td>KDGX</td>\n",
       "      <td>H2</td>\n",
       "      <td>117</td>\n",
       "      <td>86</td>\n",
       "      <td>0</td>\n",
       "      <td>50</td>\n",
       "      <td>0.5</td>\n",
       "    </tr>\n",
       "    <tr>\n",
       "      <th>34 days 17:19:56</th>\n",
       "      <td>-151.00143</td>\n",
       "      <td>62.06162</td>\n",
       "      <td>PAHG</td>\n",
       "      <td>X0</td>\n",
       "      <td>81</td>\n",
       "      <td>7</td>\n",
       "      <td>0</td>\n",
       "      <td>10</td>\n",
       "      <td>0.5</td>\n",
       "    </tr>\n",
       "    <tr>\n",
       "      <th>34 days 17:19:57</th>\n",
       "      <td>-149.64359</td>\n",
       "      <td>60.87691</td>\n",
       "      <td>PAHG</td>\n",
       "      <td>V0</td>\n",
       "      <td>51</td>\n",
       "      <td>79</td>\n",
       "      <td>0</td>\n",
       "      <td>30</td>\n",
       "      <td>0.5</td>\n",
       "    </tr>\n",
       "    <tr>\n",
       "      <th>34 days 17:19:58</th>\n",
       "      <td>-81.86136</td>\n",
       "      <td>32.76381</td>\n",
       "      <td>KFFC</td>\n",
       "      <td>N0</td>\n",
       "      <td>141</td>\n",
       "      <td>104</td>\n",
       "      <td>-999</td>\n",
       "      <td>-999</td>\n",
       "      <td>-999.0</td>\n",
       "    </tr>\n",
       "    <tr>\n",
       "      <th>34 days 17:19:59</th>\n",
       "      <td>-82.77544</td>\n",
       "      <td>35.23177</td>\n",
       "      <td>KFFC</td>\n",
       "      <td>W6</td>\n",
       "      <td>143</td>\n",
       "      <td>38</td>\n",
       "      <td>-999</td>\n",
       "      <td>-999</td>\n",
       "      <td>-999.0</td>\n",
       "    </tr>\n",
       "  </tbody>\n",
       "</table>\n",
       "</div>"
      ],
      "text/plain": [
       "                        LON       LAT WSR_ID CELL_ID  RANGE  AZIMUTH  SEVPROB  \\\n",
       "34 days 17:19:55  -87.68603  32.39541   KDGX      H2    117       86        0   \n",
       "34 days 17:19:56 -151.00143  62.06162   PAHG      X0     81        7        0   \n",
       "34 days 17:19:57 -149.64359  60.87691   PAHG      V0     51       79        0   \n",
       "34 days 17:19:58  -81.86136  32.76381   KFFC      N0    141      104     -999   \n",
       "34 days 17:19:59  -82.77544  35.23177   KFFC      W6    143       38     -999   \n",
       "\n",
       "                  PROB  MAXSIZE  \n",
       "34 days 17:19:55    50      0.5  \n",
       "34 days 17:19:56    10      0.5  \n",
       "34 days 17:19:57    30      0.5  \n",
       "34 days 17:19:58  -999   -999.0  \n",
       "34 days 17:19:59  -999   -999.0  "
      ]
     },
     "execution_count": 6,
     "metadata": {},
     "output_type": "execute_result"
    }
   ],
   "source": [
    "data.tail()"
   ]
  },
  {
   "cell_type": "code",
   "execution_count": 7,
   "metadata": {},
   "outputs": [],
   "source": [
    "data[data.columns[-3:]] = data[data.columns[-3:]].replace({-999 : 0})\n",
    "\n",
    "'''\n",
    "we'll get rid of the equipment and storm ID fetures because the only way they may\n",
    "hold usufull information is via their location, which we already have\n",
    "'''\n",
    "\n",
    "data.drop(['CELL_ID', 'WSR_ID'], axis = 1, inplace = True)"
   ]
  },
  {
   "cell_type": "code",
   "execution_count": 8,
   "metadata": {},
   "outputs": [
    {
     "data": {
      "image/png": "[encoded data removed]",
      "text/plain": [
       "<Figure size 640x480 with 1 Axes>"
      ]
     },
     "metadata": {},
     "output_type": "display_data"
    }
   ],
   "source": [
    "severe_data = data[data['SEVPROB'] >= 80]\n",
    "\n",
    "plt.scatter(severe_data['LON'], severe_data['LAT'])\n",
    "plt.title('cordinations of severe wether events')\n",
    "plt.show()"
   ]
  },
  {
   "cell_type": "code",
   "execution_count": 10,
   "metadata": {},
   "outputs": [
    {
     "data": {
      "image/png": "[encoded data removed]",
      "text/plain": [
       "<Figure size 640x480 with 1 Axes>"
      ]
     },
     "metadata": {},
     "output_type": "display_data"
    }
   ],
   "source": [
    "''' \n",
    "looks like most severe wether events occurre close to the soth or east cost\n",
    "some around the louisiana area and a bit in alska\n",
    "'''\n",
    "\n",
    "data['SEVPROB'].resample('H').mean().plot()\n",
    "plt.title('the avarage of the probability of a severe wether event, every 3600 time stamps')\n",
    "plt.xticks([])\n",
    "plt.show()"
   ]
  },
  {
   "cell_type": "code",
   "execution_count": 14,
   "metadata": {},
   "outputs": [
    {
     "data": {
      "text/html": [
       "<div>\n",
       "<style scoped>\n",
       "    .dataframe tbody tr th:only-of-type {\n",
       "        vertical-align: middle;\n",
       "    }\n",
       "\n",
       "    .dataframe tbody tr th {\n",
       "        vertical-align: top;\n",
       "    }\n",
       "\n",
       "    .dataframe thead th {\n",
       "        text-align: right;\n",
       "    }\n",
       "</style>\n",
       "<table border=\"1\" class=\"dataframe\">\n",
       "  <thead>\n",
       "    <tr style=\"text-align: right;\">\n",
       "      <th></th>\n",
       "      <th>LON</th>\n",
       "      <th>LAT</th>\n",
       "      <th>RANGE</th>\n",
       "      <th>AZIMUTH</th>\n",
       "      <th>SEVPROB</th>\n",
       "      <th>PROB</th>\n",
       "      <th>MAXSIZE</th>\n",
       "    </tr>\n",
       "  </thead>\n",
       "  <tbody>\n",
       "    <tr>\n",
       "      <th>0 days 00:00:00</th>\n",
       "      <td>-98.418219</td>\n",
       "      <td>31.068868</td>\n",
       "      <td>48.216667</td>\n",
       "      <td>196.633333</td>\n",
       "      <td>0.166667</td>\n",
       "      <td>40.666667</td>\n",
       "      <td>0.491667</td>\n",
       "    </tr>\n",
       "    <tr>\n",
       "      <th>0 days 00:01:00</th>\n",
       "      <td>-96.961912</td>\n",
       "      <td>32.544097</td>\n",
       "      <td>28.466667</td>\n",
       "      <td>172.550000</td>\n",
       "      <td>0.500000</td>\n",
       "      <td>33.000000</td>\n",
       "      <td>0.483333</td>\n",
       "    </tr>\n",
       "    <tr>\n",
       "      <th>0 days 00:02:00</th>\n",
       "      <td>-96.886162</td>\n",
       "      <td>32.836266</td>\n",
       "      <td>17.416667</td>\n",
       "      <td>173.150000</td>\n",
       "      <td>0.500000</td>\n",
       "      <td>26.833333</td>\n",
       "      <td>0.500000</td>\n",
       "    </tr>\n",
       "    <tr>\n",
       "      <th>0 days 00:03:00</th>\n",
       "      <td>-97.020589</td>\n",
       "      <td>32.899137</td>\n",
       "      <td>21.250000</td>\n",
       "      <td>215.716667</td>\n",
       "      <td>0.000000</td>\n",
       "      <td>26.833333</td>\n",
       "      <td>0.500000</td>\n",
       "    </tr>\n",
       "    <tr>\n",
       "      <th>0 days 00:04:00</th>\n",
       "      <td>-97.023409</td>\n",
       "      <td>33.054803</td>\n",
       "      <td>15.333333</td>\n",
       "      <td>219.350000</td>\n",
       "      <td>0.000000</td>\n",
       "      <td>23.333333</td>\n",
       "      <td>0.500000</td>\n",
       "    </tr>\n",
       "  </tbody>\n",
       "</table>\n",
       "</div>"
      ],
      "text/plain": [
       "                       LON        LAT      RANGE     AZIMUTH   SEVPROB  \\\n",
       "0 days 00:00:00 -98.418219  31.068868  48.216667  196.633333  0.166667   \n",
       "0 days 00:01:00 -96.961912  32.544097  28.466667  172.550000  0.500000   \n",
       "0 days 00:02:00 -96.886162  32.836266  17.416667  173.150000  0.500000   \n",
       "0 days 00:03:00 -97.020589  32.899137  21.250000  215.716667  0.000000   \n",
       "0 days 00:04:00 -97.023409  33.054803  15.333333  219.350000  0.000000   \n",
       "\n",
       "                      PROB   MAXSIZE  \n",
       "0 days 00:00:00  40.666667  0.491667  \n",
       "0 days 00:01:00  33.000000  0.483333  \n",
       "0 days 00:02:00  26.833333  0.500000  \n",
       "0 days 00:03:00  26.833333  0.500000  \n",
       "0 days 00:04:00  23.333333  0.500000  "
      ]
     },
     "execution_count": 14,
     "metadata": {},
     "output_type": "execute_result"
    }
   ],
   "source": [
    "''' avraging over every 60 time stamps '''\n",
    "\n",
    "data = data.resample('T').mean()\n",
    "data.head()"
   ]
  },
  {
   "cell_type": "code",
   "execution_count": 15,
   "metadata": {},
   "outputs": [
    {
     "data": {
      "text/plain": [
       "((50000, 6), (50000,))"
      ]
     },
     "execution_count": 15,
     "metadata": {},
     "output_type": "execute_result"
    }
   ],
   "source": [
    "''' we are interested in predicting the probabilty of a severe wether event'''\n",
    "\n",
    "data, target = data.drop('SEVPROB', axis = 1), data['SEVPROB']\n",
    "\n",
    "data.shape, target.shape"
   ]
  },
  {
   "cell_type": "code",
   "execution_count": 49,
   "metadata": {},
   "outputs": [
    {
     "data": {
      "text/plain": [
       "((42500, 6), (7500, 6), (42500,), (7500,))"
      ]
     },
     "execution_count": 49,
     "metadata": {},
     "output_type": "execute_result"
    }
   ],
   "source": [
    "train_data, test_data, train_target, test_target = train_test_split(data, target, test_size = 0.15, random_state = 3)\n",
    "\n",
    "train_data.shape, test_data.shape, train_target.shape, test_target.shape"
   ]
  },
  {
   "attachments": {},
   "cell_type": "markdown",
   "metadata": {},
   "source": [
    "#### Applying the ML models"
   ]
  },
  {
   "cell_type": "code",
   "execution_count": 53,
   "metadata": {},
   "outputs": [],
   "source": [
    "# for the metric sensetive models we use the more rubost: Quntile Scaler\n",
    "\n",
    "knn_pipe = Pipeline([('scale', QuantileTransformer()),\n",
    "                     ('model', KNeighborsRegressor())])\n",
    "\n",
    "knn = GridSearchCV(estimator = knn_pipe, cv = 3, param_grid = {'model__n_jobs' : [5, 7, 9], 'model__p' : [1, 2]})\n",
    "\n",
    "tree_pipe = Pipeline([('scale', StandardScaler()),\n",
    "                      ('model', DecisionTreeRegressor())])\n",
    "\n",
    "decision_tree = GridSearchCV(estimator = tree_pipe, cv = 3, param_grid = {'model__min_samples_leaf' : [20, 40, 60]})\n",
    "\n",
    "svm = Pipeline([('scale', StandardScaler()),\n",
    "                ('model', SVR())])\n",
    "\n",
    "adaboost_pipe = Pipeline([('scale', QuantileTransformer()),\n",
    "                          ('mpdel', AdaBoostRegressor())])\n",
    "\n",
    "adaboost = GridSearchCV(estimator = adaboost_pipe, cv = 3, param_grid = {'mpdel__estimator': [None, DecisionTreeRegressor()], 'mpdel__n_estimators' : [100, 200]})\n",
    "\n",
    "# model evaluation\n",
    "def print_metric(pred): print(f'MSE: {metrics.mean_absolute_error(test_target, pred)}\\nR2: {metrics.r2_score(test_target, pred)}')"
   ]
  },
  {
   "cell_type": "code",
   "execution_count": 54,
   "metadata": {},
   "outputs": [
    {
     "name": "stdout",
     "output_type": "stream",
     "text": [
      "MSE: 2.1964\n",
      "R2: 0.6887886102730281\n"
     ]
    }
   ],
   "source": [
    "knn.fit(train_data, train_target)\n",
    "print_metric(knn.predict(test_data))"
   ]
  },
  {
   "cell_type": "code",
   "execution_count": 55,
   "metadata": {},
   "outputs": [
    {
     "name": "stdout",
     "output_type": "stream",
     "text": [
      "MSE: 2.1613983154033525\n",
      "R2: 0.6995826080811254\n"
     ]
    }
   ],
   "source": [
    "decision_tree.fit(train_data, train_target)\n",
    "print_metric(decision_tree.predict(test_data))"
   ]
  },
  {
   "cell_type": "code",
   "execution_count": 56,
   "metadata": {},
   "outputs": [
    {
     "name": "stdout",
     "output_type": "stream",
     "text": [
      "MSE: 1.9941555555555555\n",
      "R2: 0.7421933445868327\n"
     ]
    }
   ],
   "source": [
    "adaboost.fit(train_data, train_target)\n",
    "print_metric(adaboost.predict(test_data))"
   ]
  },
  {
   "cell_type": "code",
   "execution_count": 57,
   "metadata": {},
   "outputs": [
    {
     "name": "stdout",
     "output_type": "stream",
     "text": [
      "MSE: 2.0065715579313457\n",
      "R2: 0.7493931652955472\n"
     ]
    }
   ],
   "source": [
    "gradient_boost = xg.XGBRegressor(n_estimators = 200)\n",
    "gradient_boost.fit(train_data, train_target)\n",
    "print_metric(gradient_boost.predict(test_data))"
   ]
  },
  {
   "attachments": {},
   "cell_type": "markdown",
   "metadata": {},
   "source": [
    "#### harder challange: anticipate the future"
   ]
  },
  {
   "cell_type": "code",
   "execution_count": 52,
   "metadata": {},
   "outputs": [],
   "source": [
    "def stack_time_series(before: int, after: int):\n",
    "\n",
    "    ''' reshaping the data so that the challange is: given 'before' minutes of record predict the next 'after' '''\n",
    "\n",
    "    stacked_target = pd.DataFrame( zip( * (list(target)[before + i:] for i in range(after))) )\n",
    "    \n",
    "    stacked_data = { col : pd.DataFrame( zip( * (list(data[col])[i:] for i in range(before))) )  for col in data.columns }\n",
    "\n",
    "    return pd.concat(stacked_data, axis = 1)[:-after], stacked_target"
   ]
  },
  {
   "cell_type": "code",
   "execution_count": 58,
   "metadata": {},
   "outputs": [
    {
     "data": {
      "text/html": [
       "<div>\n",
       "<style scoped>\n",
       "    .dataframe tbody tr th:only-of-type {\n",
       "        vertical-align: middle;\n",
       "    }\n",
       "\n",
       "    .dataframe tbody tr th {\n",
       "        vertical-align: top;\n",
       "    }\n",
       "\n",
       "    .dataframe thead tr th {\n",
       "        text-align: left;\n",
       "    }\n",
       "</style>\n",
       "<table border=\"1\" class=\"dataframe\">\n",
       "  <thead>\n",
       "    <tr>\n",
       "      <th></th>\n",
       "      <th colspan=\"2\" halign=\"left\">LON</th>\n",
       "      <th colspan=\"2\" halign=\"left\">LAT</th>\n",
       "      <th colspan=\"2\" halign=\"left\">RANGE</th>\n",
       "      <th colspan=\"2\" halign=\"left\">AZIMUTH</th>\n",
       "      <th colspan=\"2\" halign=\"left\">PROB</th>\n",
       "      <th colspan=\"2\" halign=\"left\">MAXSIZE</th>\n",
       "    </tr>\n",
       "    <tr>\n",
       "      <th></th>\n",
       "      <th>0</th>\n",
       "      <th>1</th>\n",
       "      <th>0</th>\n",
       "      <th>1</th>\n",
       "      <th>0</th>\n",
       "      <th>1</th>\n",
       "      <th>0</th>\n",
       "      <th>1</th>\n",
       "      <th>0</th>\n",
       "      <th>1</th>\n",
       "      <th>0</th>\n",
       "      <th>1</th>\n",
       "    </tr>\n",
       "  </thead>\n",
       "  <tbody>\n",
       "    <tr>\n",
       "      <th>0</th>\n",
       "      <td>-98.418219</td>\n",
       "      <td>-96.961912</td>\n",
       "      <td>31.068868</td>\n",
       "      <td>32.544097</td>\n",
       "      <td>48.216667</td>\n",
       "      <td>28.466667</td>\n",
       "      <td>196.633333</td>\n",
       "      <td>172.550000</td>\n",
       "      <td>40.666667</td>\n",
       "      <td>33.000000</td>\n",
       "      <td>0.491667</td>\n",
       "      <td>0.483333</td>\n",
       "    </tr>\n",
       "    <tr>\n",
       "      <th>1</th>\n",
       "      <td>-96.961912</td>\n",
       "      <td>-96.886162</td>\n",
       "      <td>32.544097</td>\n",
       "      <td>32.836266</td>\n",
       "      <td>28.466667</td>\n",
       "      <td>17.416667</td>\n",
       "      <td>172.550000</td>\n",
       "      <td>173.150000</td>\n",
       "      <td>33.000000</td>\n",
       "      <td>26.833333</td>\n",
       "      <td>0.483333</td>\n",
       "      <td>0.500000</td>\n",
       "    </tr>\n",
       "    <tr>\n",
       "      <th>2</th>\n",
       "      <td>-96.886162</td>\n",
       "      <td>-97.020589</td>\n",
       "      <td>32.836266</td>\n",
       "      <td>32.899137</td>\n",
       "      <td>17.416667</td>\n",
       "      <td>21.250000</td>\n",
       "      <td>173.150000</td>\n",
       "      <td>215.716667</td>\n",
       "      <td>26.833333</td>\n",
       "      <td>26.833333</td>\n",
       "      <td>0.500000</td>\n",
       "      <td>0.500000</td>\n",
       "    </tr>\n",
       "    <tr>\n",
       "      <th>3</th>\n",
       "      <td>-97.020589</td>\n",
       "      <td>-97.023409</td>\n",
       "      <td>32.899137</td>\n",
       "      <td>33.054803</td>\n",
       "      <td>21.250000</td>\n",
       "      <td>15.333333</td>\n",
       "      <td>215.716667</td>\n",
       "      <td>219.350000</td>\n",
       "      <td>26.833333</td>\n",
       "      <td>23.333333</td>\n",
       "      <td>0.500000</td>\n",
       "      <td>0.500000</td>\n",
       "    </tr>\n",
       "    <tr>\n",
       "      <th>4</th>\n",
       "      <td>-97.023409</td>\n",
       "      <td>-96.474173</td>\n",
       "      <td>33.054803</td>\n",
       "      <td>32.766937</td>\n",
       "      <td>15.333333</td>\n",
       "      <td>33.016667</td>\n",
       "      <td>219.350000</td>\n",
       "      <td>201.500000</td>\n",
       "      <td>23.333333</td>\n",
       "      <td>36.000000</td>\n",
       "      <td>0.500000</td>\n",
       "      <td>0.500000</td>\n",
       "    </tr>\n",
       "  </tbody>\n",
       "</table>\n",
       "</div>"
      ],
      "text/plain": [
       "         LON                   LAT                 RANGE             \\\n",
       "           0          1          0          1          0          1   \n",
       "0 -98.418219 -96.961912  31.068868  32.544097  48.216667  28.466667   \n",
       "1 -96.961912 -96.886162  32.544097  32.836266  28.466667  17.416667   \n",
       "2 -96.886162 -97.020589  32.836266  32.899137  17.416667  21.250000   \n",
       "3 -97.020589 -97.023409  32.899137  33.054803  21.250000  15.333333   \n",
       "4 -97.023409 -96.474173  33.054803  32.766937  15.333333  33.016667   \n",
       "\n",
       "      AZIMUTH                   PROB              MAXSIZE            \n",
       "            0           1          0          1         0         1  \n",
       "0  196.633333  172.550000  40.666667  33.000000  0.491667  0.483333  \n",
       "1  172.550000  173.150000  33.000000  26.833333  0.483333  0.500000  \n",
       "2  173.150000  215.716667  26.833333  26.833333  0.500000  0.500000  \n",
       "3  215.716667  219.350000  26.833333  23.333333  0.500000  0.500000  \n",
       "4  219.350000  201.500000  23.333333  36.000000  0.500000  0.500000  "
      ]
     },
     "execution_count": 58,
     "metadata": {},
     "output_type": "execute_result"
    }
   ],
   "source": [
    "data, target = stack_time_series(2, 1)\n",
    "data.head()"
   ]
  },
  {
   "cell_type": "code",
   "execution_count": 59,
   "metadata": {},
   "outputs": [
    {
     "data": {
      "text/plain": [
       "((42498, 12), (7500, 12), (42498, 1), (7500, 1))"
      ]
     },
     "execution_count": 59,
     "metadata": {},
     "output_type": "execute_result"
    }
   ],
   "source": [
    "train_data, test_data, train_target, test_target = train_test_split(data, target, test_size = 0.15, random_state = 3)\n",
    "train_data.shape, test_data.shape, train_target.shape, test_target.shape"
   ]
  },
  {
   "cell_type": "code",
   "execution_count": 60,
   "metadata": {},
   "outputs": [
    {
     "name": "stdout",
     "output_type": "stream",
     "text": [
      "MSE: 3.2058372639194954\n",
      "R2: 0.355987358892648\n"
     ]
    }
   ],
   "source": [
    "gradient_boost = xg.XGBRegressor(n_estimators = 200)\n",
    "gradient_boost.fit(train_data, train_target)\n",
    "print_metric(gradient_boost.predict(test_data))"
   ]
  }
 ],
 "metadata": {
  "kernelspec": {
   "display_name": "Python 3",
   "language": "python",
   "name": "python3"
  },
  "language_info": {
   "codemirror_mode": {
    "name": "ipython",
    "version": 3
   },
   "file_extension": ".py",
   "mimetype": "text/x-python",
   "name": "python",
   "nbconvert_exporter": "python",
   "pygments_lexer": "ipython3",
   "version": "3.10.6"
  },
  "orig_nbformat": 4,
  "vscode": {
   "interpreter": {
    "hash": "916dbcbb3f70747c44a77c7bcd40155683ae19c65e1c03b4aa3499c5328201f1"
   }
  }
 },
 "nbformat": 4,
 "nbformat_minor": 2
}
